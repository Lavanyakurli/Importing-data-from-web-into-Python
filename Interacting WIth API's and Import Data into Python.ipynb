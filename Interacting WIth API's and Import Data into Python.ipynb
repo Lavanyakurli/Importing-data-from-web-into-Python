{
 "cells": [
  {
   "cell_type": "code",
   "execution_count": null,
   "metadata": {},
   "outputs": [],
   "source": [
    "#API(Application Programming Interface) \n",
    "#API's are set of protocols and routines for building and #interacting with software applications\n",
    "#The standard format of transferring data from API is json(Java Script Object Notation) format\n",
    "#JSON's provide real time server-to-browser communication w/o relying on Flas or Java plug-ins to be installed"
   ]
  },
  {
   "cell_type": "code",
   "execution_count": 32,
   "metadata": {},
   "outputs": [],
   "source": [
    "import requests, json , pandas as pd"
   ]
  },
  {
   "cell_type": "code",
   "execution_count": 26,
   "metadata": {},
   "outputs": [],
   "source": [
    "url='http://www.omdbapi.com/?apikey=72bc447a&t=Game+of+thrones'"
   ]
  },
  {
   "cell_type": "code",
   "execution_count": 27,
   "metadata": {},
   "outputs": [],
   "source": [
    "req=requests.get(url)"
   ]
  },
  {
   "cell_type": "code",
   "execution_count": 28,
   "metadata": {},
   "outputs": [],
   "source": [
    "res=req.text"
   ]
  },
  {
   "cell_type": "code",
   "execution_count": 29,
   "metadata": {},
   "outputs": [
    {
     "name": "stdout",
     "output_type": "stream",
     "text": [
      "{\"Title\":\"Game of Thrones\",\"Year\":\"2011–\",\"Rated\":\"TV-MA\",\"Released\":\"17 Apr 2011\",\"Runtime\":\"57 min\",\"Genre\":\"Action, Adventure, Drama, Fantasy, Romance\",\"Director\":\"N/A\",\"Writer\":\"David Benioff, D.B. Weiss\",\"Actors\":\"Peter Dinklage, Lena Headey, Emilia Clarke, Kit Harington\",\"Plot\":\"Nine noble families fight for control over the mythical lands of Westeros, while an ancient enemy returns after being dormant for thousands of years.\",\"Language\":\"English\",\"Country\":\"USA, UK\",\"Awards\":\"Won 1 Golden Globe. Another 273 wins & 454 nominations.\",\"Poster\":\"https://m.media-amazon.com/images/M/MV5BMjA5NzA5NjMwNl5BMl5BanBnXkFtZTgwNjg2OTk2NzM@._V1_SX300.jpg\",\"Ratings\":[{\"Source\":\"Internet Movie Database\",\"Value\":\"9.5/10\"}],\"Metascore\":\"N/A\",\"imdbRating\":\"9.5\",\"imdbVotes\":\"1,429,496\",\"imdbID\":\"tt0944947\",\"Type\":\"series\",\"totalSeasons\":\"8\",\"Response\":\"True\"}\n",
      "<class 'str'>\n"
     ]
    }
   ],
   "source": [
    "print(res)\n",
    "print(type(res))"
   ]
  },
  {
   "cell_type": "code",
   "execution_count": 31,
   "metadata": {},
   "outputs": [
    {
     "name": "stdout",
     "output_type": "stream",
     "text": [
      "{'Title': 'Game of Thrones', 'Year': '2011–', 'Rated': 'TV-MA', 'Released': '17 Apr 2011', 'Runtime': '57 min', 'Genre': 'Action, Adventure, Drama, Fantasy, Romance', 'Director': 'N/A', 'Writer': 'David Benioff, D.B. Weiss', 'Actors': 'Peter Dinklage, Lena Headey, Emilia Clarke, Kit Harington', 'Plot': 'Nine noble families fight for control over the mythical lands of Westeros, while an ancient enemy returns after being dormant for thousands of years.', 'Language': 'English', 'Country': 'USA, UK', 'Awards': 'Won 1 Golden Globe. Another 273 wins & 454 nominations.', 'Poster': 'https://m.media-amazon.com/images/M/MV5BMjA5NzA5NjMwNl5BMl5BanBnXkFtZTgwNjg2OTk2NzM@._V1_SX300.jpg', 'Ratings': [{'Source': 'Internet Movie Database', 'Value': '9.5/10'}], 'Metascore': 'N/A', 'imdbRating': '9.5', 'imdbVotes': '1,429,496', 'imdbID': 'tt0944947', 'Type': 'series', 'totalSeasons': '8', 'Response': 'True'}\n",
      "<class 'dict'>\n"
     ]
    }
   ],
   "source": [
    "json_data=req.json()\n",
    "print(json_data)\n",
    "print(type(json_data))"
   ]
  },
  {
   "cell_type": "code",
   "execution_count": 33,
   "metadata": {},
   "outputs": [],
   "source": [
    "#Converting dictionary type to dataframe\n",
    "df=pd.DataFrame(json_data)"
   ]
  },
  {
   "cell_type": "code",
   "execution_count": 34,
   "metadata": {},
   "outputs": [
    {
     "name": "stdout",
     "output_type": "stream",
     "text": [
      "             Title   Year  Rated     Released Runtime  \\\n",
      "0  Game of Thrones  2011–  TV-MA  17 Apr 2011  57 min   \n",
      "\n",
      "                                        Genre Director  \\\n",
      "0  Action, Adventure, Drama, Fantasy, Romance      N/A   \n",
      "\n",
      "                      Writer  \\\n",
      "0  David Benioff, D.B. Weiss   \n",
      "\n",
      "                                              Actors  \\\n",
      "0  Peter Dinklage, Lena Headey, Emilia Clarke, Ki...   \n",
      "\n",
      "                                                Plot  ...  \\\n",
      "0  Nine noble families fight for control over the...  ...   \n",
      "\n",
      "                                              Awards  \\\n",
      "0  Won 1 Golden Globe. Another 273 wins & 454 nom...   \n",
      "\n",
      "                                              Poster  \\\n",
      "0  https://m.media-amazon.com/images/M/MV5BMjA5Nz...   \n",
      "\n",
      "                                             Ratings Metascore imdbRating  \\\n",
      "0  {'Source': 'Internet Movie Database', 'Value':...       N/A        9.5   \n",
      "\n",
      "   imdbVotes     imdbID    Type totalSeasons Response  \n",
      "0  1,429,496  tt0944947  series            8     True  \n",
      "\n",
      "[1 rows x 22 columns]\n"
     ]
    }
   ],
   "source": [
    "print(df)"
   ]
  },
  {
   "cell_type": "code",
   "execution_count": null,
   "metadata": {},
   "outputs": [],
   "source": []
  }
 ],
 "metadata": {
  "kernelspec": {
   "display_name": "Python 3",
   "language": "python",
   "name": "python3"
  },
  "language_info": {
   "codemirror_mode": {
    "name": "ipython",
    "version": 3
   },
   "file_extension": ".py",
   "mimetype": "text/x-python",
   "name": "python",
   "nbconvert_exporter": "python",
   "pygments_lexer": "ipython3",
   "version": "3.7.3"
  }
 },
 "nbformat": 4,
 "nbformat_minor": 2
}
