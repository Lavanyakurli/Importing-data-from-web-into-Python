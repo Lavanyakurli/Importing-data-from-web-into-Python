{
 "cells": [
  {
   "cell_type": "code",
   "execution_count": null,
   "metadata": {},
   "outputs": [],
   "source": [
    "#API(Application Programming Interface) \n",
    "#API's are set of protocols and routines for building and #interacting with software applications\n",
    "#The standard format of transferring data from API is json(Java Script Object Notation) format\n",
    "#JSON's provide real time server-to-browser communication w/o relying on Flas or Java plug-ins to be installed"
   ]
  },
  {
   "cell_type": "code",
   "execution_count": 32,
   "metadata": {},
   "outputs": [],
   "source": [
    "import requests, json , pandas as pd"
   ]
  },
  {
   "cell_type": "code",
   "execution_count": 43,
   "metadata": {},
   "outputs": [],
   "source": [
    "url='http://www.omdbapi.com/?apikey=72bc447a&t=game+of+thrones&Season=1'"
   ]
  },
  {
   "cell_type": "code",
   "execution_count": 44,
   "metadata": {},
   "outputs": [],
   "source": [
    "req=requests.get(url)"
   ]
  },
  {
   "cell_type": "code",
   "execution_count": 45,
   "metadata": {},
   "outputs": [],
   "source": [
    "res=req.text"
   ]
  },
  {
   "cell_type": "code",
   "execution_count": 46,
   "metadata": {},
   "outputs": [
    {
     "name": "stdout",
     "output_type": "stream",
     "text": [
      "{\"Title\":\"Game of Thrones\",\"Season\":\"1\",\"totalSeasons\":\"8\",\"Episodes\":[{\"Title\":\"Winter Is Coming\",\"Released\":\"2011-04-17\",\"Episode\":\"1\",\"imdbRating\":\"9.0\",\"imdbID\":\"tt1480055\"},{\"Title\":\"The Kingsroad\",\"Released\":\"2011-04-24\",\"Episode\":\"2\",\"imdbRating\":\"8.8\",\"imdbID\":\"tt1668746\"},{\"Title\":\"Lord Snow\",\"Released\":\"2011-05-01\",\"Episode\":\"3\",\"imdbRating\":\"8.7\",\"imdbID\":\"tt1829962\"},{\"Title\":\"Cripples, Bastards, and Broken Things\",\"Released\":\"2011-05-08\",\"Episode\":\"4\",\"imdbRating\":\"8.8\",\"imdbID\":\"tt1829963\"},{\"Title\":\"The Wolf and the Lion\",\"Released\":\"2011-05-15\",\"Episode\":\"5\",\"imdbRating\":\"9.1\",\"imdbID\":\"tt1829964\"},{\"Title\":\"A Golden Crown\",\"Released\":\"2011-05-22\",\"Episode\":\"6\",\"imdbRating\":\"9.2\",\"imdbID\":\"tt1837862\"},{\"Title\":\"You Win or You Die\",\"Released\":\"2011-05-29\",\"Episode\":\"7\",\"imdbRating\":\"9.3\",\"imdbID\":\"tt1837863\"},{\"Title\":\"The Pointy End\",\"Released\":\"2011-06-05\",\"Episode\":\"8\",\"imdbRating\":\"9.1\",\"imdbID\":\"tt1837864\"},{\"Title\":\"Baelor\",\"Released\":\"2011-06-12\",\"Episode\":\"9\",\"imdbRating\":\"9.6\",\"imdbID\":\"tt1851398\"},{\"Title\":\"Fire and Blood\",\"Released\":\"2011-06-19\",\"Episode\":\"10\",\"imdbRating\":\"9.5\",\"imdbID\":\"tt1851397\"}],\"Response\":\"True\"}\n",
      "<class 'str'>\n"
     ]
    }
   ],
   "source": [
    "print(res)\n",
    "print(type(res))"
   ]
  },
  {
   "cell_type": "code",
   "execution_count": 47,
   "metadata": {},
   "outputs": [
    {
     "name": "stdout",
     "output_type": "stream",
     "text": [
      "{'Title': 'Game of Thrones', 'Season': '1', 'totalSeasons': '8', 'Episodes': [{'Title': 'Winter Is Coming', 'Released': '2011-04-17', 'Episode': '1', 'imdbRating': '9.0', 'imdbID': 'tt1480055'}, {'Title': 'The Kingsroad', 'Released': '2011-04-24', 'Episode': '2', 'imdbRating': '8.8', 'imdbID': 'tt1668746'}, {'Title': 'Lord Snow', 'Released': '2011-05-01', 'Episode': '3', 'imdbRating': '8.7', 'imdbID': 'tt1829962'}, {'Title': 'Cripples, Bastards, and Broken Things', 'Released': '2011-05-08', 'Episode': '4', 'imdbRating': '8.8', 'imdbID': 'tt1829963'}, {'Title': 'The Wolf and the Lion', 'Released': '2011-05-15', 'Episode': '5', 'imdbRating': '9.1', 'imdbID': 'tt1829964'}, {'Title': 'A Golden Crown', 'Released': '2011-05-22', 'Episode': '6', 'imdbRating': '9.2', 'imdbID': 'tt1837862'}, {'Title': 'You Win or You Die', 'Released': '2011-05-29', 'Episode': '7', 'imdbRating': '9.3', 'imdbID': 'tt1837863'}, {'Title': 'The Pointy End', 'Released': '2011-06-05', 'Episode': '8', 'imdbRating': '9.1', 'imdbID': 'tt1837864'}, {'Title': 'Baelor', 'Released': '2011-06-12', 'Episode': '9', 'imdbRating': '9.6', 'imdbID': 'tt1851398'}, {'Title': 'Fire and Blood', 'Released': '2011-06-19', 'Episode': '10', 'imdbRating': '9.5', 'imdbID': 'tt1851397'}], 'Response': 'True'}\n",
      "<class 'dict'>\n"
     ]
    }
   ],
   "source": [
    "json_data=req.json()\n",
    "print(json_data)\n",
    "print(type(json_data))"
   ]
  },
  {
   "cell_type": "code",
   "execution_count": 48,
   "metadata": {},
   "outputs": [
    {
     "name": "stdout",
     "output_type": "stream",
     "text": [
      "dict_keys(['Title', 'Season', 'totalSeasons', 'Episodes', 'Response'])\n"
     ]
    }
   ],
   "source": [
    "print(json_data.keys())"
   ]
  },
  {
   "cell_type": "code",
   "execution_count": 49,
   "metadata": {},
   "outputs": [
    {
     "name": "stdout",
     "output_type": "stream",
     "text": [
      "[{'Title': 'Winter Is Coming', 'Released': '2011-04-17', 'Episode': '1', 'imdbRating': '9.0', 'imdbID': 'tt1480055'}, {'Title': 'The Kingsroad', 'Released': '2011-04-24', 'Episode': '2', 'imdbRating': '8.8', 'imdbID': 'tt1668746'}, {'Title': 'Lord Snow', 'Released': '2011-05-01', 'Episode': '3', 'imdbRating': '8.7', 'imdbID': 'tt1829962'}, {'Title': 'Cripples, Bastards, and Broken Things', 'Released': '2011-05-08', 'Episode': '4', 'imdbRating': '8.8', 'imdbID': 'tt1829963'}, {'Title': 'The Wolf and the Lion', 'Released': '2011-05-15', 'Episode': '5', 'imdbRating': '9.1', 'imdbID': 'tt1829964'}, {'Title': 'A Golden Crown', 'Released': '2011-05-22', 'Episode': '6', 'imdbRating': '9.2', 'imdbID': 'tt1837862'}, {'Title': 'You Win or You Die', 'Released': '2011-05-29', 'Episode': '7', 'imdbRating': '9.3', 'imdbID': 'tt1837863'}, {'Title': 'The Pointy End', 'Released': '2011-06-05', 'Episode': '8', 'imdbRating': '9.1', 'imdbID': 'tt1837864'}, {'Title': 'Baelor', 'Released': '2011-06-12', 'Episode': '9', 'imdbRating': '9.6', 'imdbID': 'tt1851398'}, {'Title': 'Fire and Blood', 'Released': '2011-06-19', 'Episode': '10', 'imdbRating': '9.5', 'imdbID': 'tt1851397'}]\n"
     ]
    }
   ],
   "source": [
    "print(json_data['Episodes'])"
   ]
  },
  {
   "cell_type": "code",
   "execution_count": 50,
   "metadata": {},
   "outputs": [],
   "source": [
    "#Converting dictionary type to dataframe\n",
    "df=pd.DataFrame(json_data)"
   ]
  },
  {
   "cell_type": "code",
   "execution_count": 51,
   "metadata": {},
   "outputs": [
    {
     "name": "stdout",
     "output_type": "stream",
     "text": [
      "             Title Season totalSeasons  \\\n",
      "0  Game of Thrones      1            8   \n",
      "1  Game of Thrones      1            8   \n",
      "2  Game of Thrones      1            8   \n",
      "3  Game of Thrones      1            8   \n",
      "4  Game of Thrones      1            8   \n",
      "5  Game of Thrones      1            8   \n",
      "6  Game of Thrones      1            8   \n",
      "7  Game of Thrones      1            8   \n",
      "8  Game of Thrones      1            8   \n",
      "9  Game of Thrones      1            8   \n",
      "\n",
      "                                            Episodes Response  \n",
      "0  {'Title': 'Winter Is Coming', 'Released': '201...     True  \n",
      "1  {'Title': 'The Kingsroad', 'Released': '2011-0...     True  \n",
      "2  {'Title': 'Lord Snow', 'Released': '2011-05-01...     True  \n",
      "3  {'Title': 'Cripples, Bastards, and Broken Thin...     True  \n",
      "4  {'Title': 'The Wolf and the Lion', 'Released':...     True  \n",
      "5  {'Title': 'A Golden Crown', 'Released': '2011-...     True  \n",
      "6  {'Title': 'You Win or You Die', 'Released': '2...     True  \n",
      "7  {'Title': 'The Pointy End', 'Released': '2011-...     True  \n",
      "8  {'Title': 'Baelor', 'Released': '2011-06-12', ...     True  \n",
      "9  {'Title': 'Fire and Blood', 'Released': '2011-...     True  \n"
     ]
    }
   ],
   "source": [
    "print(df)"
   ]
  },
  {
   "cell_type": "code",
   "execution_count": null,
   "metadata": {},
   "outputs": [],
   "source": []
  }
 ],
 "metadata": {
  "kernelspec": {
   "display_name": "Python 3",
   "language": "python",
   "name": "python3"
  },
  "language_info": {
   "codemirror_mode": {
    "name": "ipython",
    "version": 3
   },
   "file_extension": ".py",
   "mimetype": "text/x-python",
   "name": "python",
   "nbconvert_exporter": "python",
   "pygments_lexer": "ipython3",
   "version": "3.7.3"
  }
 },
 "nbformat": 4,
 "nbformat_minor": 2
}
